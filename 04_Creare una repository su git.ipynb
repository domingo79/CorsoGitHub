{
 "cells": [
  {
   "cell_type": "markdown",
   "id": "21c27b85",
   "metadata": {},
   "source": [
    "### Creare una repo di Github e collegarla al nostro codice già scritto..\n",
    "una volta inizializzata la cartella .git nella nostra cartella di lavoro, da terminale possiamo collegare il tutto tramite i seguenti comanti che Git in fase di crazione di una repository ci mette a disposizione:  \n",
    "git remote add origin https://github.com/domingo79/CORSO_GITHUB.git  \n",
    "git branch -M main  \n",
    "git push -u origin main  \n",
    "\n",
    "**IMPORTANTE**  \n",
    "Se è la prima volta che creamo una repo molto probabilmente Git ci chiederà user e password da configurare in delle variabili globali che servono a Git per firmare i commit:\n",
    "  - `git config --global user.name \"Nome Utente\"`\n",
    "  - `git config --global user.email \"email@example.com\"`\n",
    "\n",
    "\n",
    "### analizziamo il comando git remote\n",
    "quando abbiamo digitato il comando `git remote add origin https://github.com/domingo79/CORSO_GITHUB.git` abbiamo creato una server remoto che si chiama `origin`  \n",
    "i comandi per visualizzare il server remoto sono: \n",
    "\n",
    "  - `git remote` → ci mostrerà il nome che abbiamo dato al server remoto 'origin'\n",
    "  - `git remote -v` → ci mostrerà l'indirizzo url completo dove andremo a fare il pull, pusch e fetch\n",
    "\n",
    "mentre tutte le configurazioni di Git le troviamo in locole o comunque nella cartella di .git  \n",
    "`git cat .git/config` e meglio ancora possiamo anche visualizzare la nostra origin: `git remote show origin`\n",
    "\n",
    "### rinominare o eliminare un server remoto \n",
    "- per rinominare → `git remote rename origin neworigin`\n",
    "- per cancellare → `git motote remove origin`\n"
   ]
  }
 ],
 "metadata": {
  "language_info": {
   "name": "python"
  }
 },
 "nbformat": 4,
 "nbformat_minor": 5
}
