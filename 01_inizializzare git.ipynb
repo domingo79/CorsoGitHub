{
 "cells": [
  {
   "cell_type": "markdown",
   "id": "5518d3b9",
   "metadata": {},
   "source": [
    "### sito ufficiale di Git:\n",
    "https://git-scm.com/docs"
   ]
  },
  {
   "cell_type": "markdown",
   "id": "ad157c36",
   "metadata": {},
   "source": [
    "### Verificare l'installazione o presenza di Git sulla macchina\n",
    "`git --version`\n",
    "\n",
    "- visualizzare le variabili globali: \n",
    "  - `git config --global --list`\n",
    "\n",
    "- per configurare nome e email globali usate da Git per firmare i commit:\n",
    "  - `git config --global user.name \"Nome Utente\"`\n",
    "  - `git config --global user.email \"email@example.com\"`\n",
    "\n",
    "- Capire a quale account GitHub “punta” il tuo VS Code\n",
    "  - `git remote -v`\n"
   ]
  },
  {
   "cell_type": "markdown",
   "id": "cdfaa86d",
   "metadata": {},
   "source": [
    "- Creare una cartella\n",
    "`mkdir repo_fake`"
   ]
  },
  {
   "cell_type": "markdown",
   "id": "0951eb2d",
   "metadata": {},
   "source": [
    "- visualizzare file:\n",
    "    1. il classico dir\n",
    "    2. ls (lista dei file)\n",
    "    3. ls -a (mostra anche le cartelle nascoste)"
   ]
  },
  {
   "cell_type": "markdown",
   "id": "cd6a1c13",
   "metadata": {},
   "source": [
    "- inizializzare git.. la possiamo inizializzare in qualsiasi cartella, quindi ci dobbiamo solo posizionare nella cartella giusta.\n",
    "  - git init\n",
    "  \n",
    "`nota:` \n",
    "  1. verrà creata una cartella di nome `.git` nascosta ma che conterrà tutto lo storico dei file e cartelle\n",
    "  2. nel nostro terminale avremo il nome del branch principale `(master)`\n",
    "\n",
    "- eliminare .git da terminale:\n",
    "  - `rm -rf .git`"
   ]
  },
  {
   "cell_type": "markdown",
   "id": "35b0f419",
   "metadata": {},
   "source": [
    "- abbiamo due modi per creare un file:\n",
    "    1. repo_fake/touch file_01.txt\n",
    "    2. cd repo_fake\n",
    "        - echo `testo da inserire nel file` > file_01.txt"
   ]
  },
  {
   "cell_type": "markdown",
   "id": "71ae0de3",
   "metadata": {},
   "source": [
    "- mostra il contenuto del file\n",
    "  - cat file_01.txt"
   ]
  },
  {
   "cell_type": "markdown",
   "id": "cae7b285",
   "metadata": {},
   "source": [
    "**Creato il file \"git\" non sa ancora dell'esistenza, infatti se usiamo il comando `git status` troveremo il nostro file nella working area e di colore rosso**\n",
    "\n",
    "Per spostare il file nella *staging area* abbiamo diverse opzioni usando il comando `add` come suggerito da git quando abbiamo usato il comando `git status`.\n",
    "\n",
    "    - possiamo semplicemente usare: `git add file_01.txt`\n",
    "    - possiamo anche usare git add per aggiungere 2 o più file passandoli in sequenza: `git add file1 file2 file3`\n",
    "    - possiamo anche inserire un set di tutti i file txt: `git add *.txt `\n",
    "    - oppure per aggiungi tutti i file: `git add .` \n",
    "\n",
    "dopo questa operazione il nostro file_01.txt è diventato verde e git ci da altre indicazioni quando ricontrolliamo lo status\n",
    "1. il comando per tornare alla working area: `git restore --staged file_01.txt`\n",
    "2. riguardo il commit:\n",
    "   1. git commit -m \"First commit\" -m \"commento ulteriore\""
   ]
  },
  {
   "cell_type": "markdown",
   "id": "a2812f70",
   "metadata": {},
   "source": [
    "**una volta fatto il commit, possiamo usare il comando `git log` per avere tutte le informazioni delle commit nella history**\n",
    "\n",
    "usando `git log` avremo informazioni su:\n",
    "\n",
    "    - Autore\n",
    "    - Data\n",
    "    - commit\n",
    "    - posizione di HEAD nel branch\n",
    "\n",
    "usando `git log --oneline` avremo una visualizzazione compatta e possiamo cambiare l'ordine aggiungengo il parametro `--reverse`"
   ]
  },
  {
   "cell_type": "markdown",
   "id": "58a3612c",
   "metadata": {},
   "source": [
    "**Se vogliamo modificare il nostro commit in LOCALE abbiamo 3 opzioni (di default è mixed)**\n",
    "\n",
    "1. --soft\n",
    "2. --mixed(possiamo anche omettere in quanto è di default)\n",
    "3. --hard\n",
    "\n",
    "oppure se nello specifico è l'ultimo commit fatto che vogliamo correggere abbiamo l'opzione **git commit --amend**"
   ]
  },
  {
   "cell_type": "markdown",
   "id": "a7dabfee",
   "metadata": {},
   "source": [
    "### git reset --soft (DA USARE SE ABBIAMO ANCORA TUTTO IN LOCALE)\n",
    "\n",
    "- possiamo usare git reset --soft e indicare l'ID della commit\n",
    "- possiamo usare il puntatore(HEAD)\n",
    "  - git reset --soft HEAD^1 (per -1) oppre HEAD^^ (per due commit indietro)\n",
    "  - oppure HEAD~1  tilde + numero di commit(alt 126)\n",
    "\n",
    "una volta eseguito il comando `git reset --soft HEAD^` portereno il nostro file nella *staging area*"
   ]
  },
  {
   "cell_type": "markdown",
   "id": "aa73fab8",
   "metadata": {},
   "source": [
    "### git reset --mixed (possiamo ometterlo) (DA USARE SE ABBIAMO ANCORA TUTTO IN LOCALE)\n",
    "\n",
    "una volta eseguito il comando `git reset --mixed HEAD^` troveremo l'ultimo file committato nella *working area* in rosso per intenderci"
   ]
  },
  {
   "cell_type": "markdown",
   "id": "bacc062c",
   "metadata": {},
   "source": [
    "### git reset --hard (DA USARE SE ABBIAMO ANCORA TUTTO IN LOCALE)\n",
    "\n",
    "questo reset fa si che il nostro file_03.txt sparirà e porterà tutto alla commit precedente"
   ]
  }
 ],
 "metadata": {
  "language_info": {
   "name": "python"
  }
 },
 "nbformat": 4,
 "nbformat_minor": 5
}
