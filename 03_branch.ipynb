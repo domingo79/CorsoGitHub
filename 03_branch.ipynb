{
 "cells": [
  {
   "cell_type": "markdown",
   "id": "52a7e6c7",
   "metadata": {},
   "source": [
    "### cosa sono i branch?\n",
    "i branch(*etichetta che fa riferimento all'ultimo commit*) sono versioni parallele dei nostri file, per questo sono importantissimi perchè ci permettono appunto di separare differenti \n",
    "versioni del nostro codice ed evitare di sporcare la nostra versione stabile del software che di solito è posizionata in `master` \n",
    "\n",
    "**nota** Git ha cambiato il nome in `main` anche se master è usato come alias quindi *main as master*"
   ]
  },
  {
   "cell_type": "markdown",
   "id": "d404e3c7",
   "metadata": {},
   "source": [
    "**per mostrare le varie ramificazioni dei branch usiamo il comando**\n",
    "`git log --all --decorate --oneline --graph`\n",
    "*per evitare di scrivere tutto il comando possiamo usare un alias* `alias graph='git --all --decorate --oneline --graph'`"
   ]
  },
  {
   "cell_type": "markdown",
   "id": "aa1b4d9b",
   "metadata": {},
   "source": [
    "### Creare Branch e Visualizzarew i branch creati\n",
    "per creare un branch è sufficente digitare il comnado: git branch `nome_branche`\n",
    "\n",
    "- vogliamo chiamare il nostro branch *dev* digiteremo: `git branch dev`\n",
    "- vogliamo visualizzare tutti i branch? useremo: `git branch` ci verrà mostrato un elenco di branch e segnalata con un (*) il branch attivo\n",
    "\n",
    "**nota** il branch creato punterà all'ultimo commit questo è il suo punto di riferimento\n",
    "\n",
    "### Come spostarci sui vari Branch creati\n",
    "useremo il comando: `git checkout dev`\n",
    "\n",
    "una volta che ci siamo spostati sul branch fix come eseguiamo un test: modifichiamo un file_01.txt e successivamente committiamo il file.\n",
    "\n",
    "Per eseguire più rapidamente *add* e *commit* possiamo usare la scocciatoia:\n",
    "`git commit -am \"aggiunta una nuova linea\"`\n",
    "\n",
    "una volta committato noteremo che il nostro brach HEAD→(fix) è una commit avanti rispetto a master e dev.\n",
    "\n",
    "### Come fare marge sul branch principale\n",
    "per applicare le modifiche o meglio per fare il merg del codice scritto in un altra branch dobbiamo per prima cosa spostarci sul nostro branch principale `master`. Possiamo verificare le modifiche stando in posizione master e digitando il comando `git diff master..fix`\n",
    "\n",
    "appurate le modifiche effettuiamo il marg 'fast-forward' che sarebbe a una via.. in linea diretta: `git merg fix` e Git ci avvisa dell'avenuta Fast-forward e avremo una situazione (HEAD → master, fix) che puntano allo stesso commit. Quello appunto che abbiamo unito.\n",
    "Se invece il parente diretto non è lo stesso commit, Git andrà a verificare quale è il commit comune per entrambe le branch e verifica tutte le commit da parent-commit alle commit fatte e qualora ci fossero conflitti le va a segnalare. Qui torna utile git status per verificare i conflitti per i merge con `git status` e qualora volessimo possiamo anche intrerrompere il merge con il comando `git merge --abort`.\n",
    "\n",
    "**Per procedere alla risoluzione del conflitto** sul file_01.txt apriamo **vi file_01.txt**  e qui ci sarà mostrato il contenuto del file master e il contenuto del file della branch che vogliamo mergiare.. Qui abbiamo due strade con la combinazione **dd** eliminiamo marcatori e linee che non vogliamo mergiare oppure **i** per la modalità insert e applichiamo le modifiche. Per uscire **wq** scrivi/salva-esci.\n",
    "Subito dopo faremo `git add .` e `git status` per vedere se abbiamo risolto i conflitti del file→`All conflicts fixed but you are still merging`.\n",
    "A questo punto avendo risolto i conflitti e Git ci dice anche che abbiamo risolto e che siamo ancora nella fase di merge e che dobbiamo proseguire con `git commit` per continuare con il merging. Il comando git commit ci aprirà l'editor vi e se il messaggio standard ci appaga possiamo uscire con :wq e Git ci informetà che il merge è avvenuto con successo.\n",
    "\n",
    "### Come visualizzare i branche che abbiamo unito. E come eliminare i branch che non servono più\n",
    "per visualizzare tutte le unioni-merge dei branch fatti usiamo il comando: `git branch --merged` e a quasto punto individuati\n",
    "i branch che comunque abbiamo mergiato su master e non ci servono più possiamo eliminarli usando il comando: `git branch -d fix`\n",
    "\n",
    "**nota** se vogliamo eliminare un branch che NON ABBIAMO ANCORA MERGIATO useremo la (D) maiuscola: `git branch -D dev`\n"
   ]
  },
  {
   "cell_type": "markdown",
   "id": "fe6fbf9c",
   "metadata": {},
   "source": [
    "### come creare un Branche in modo compatto\n",
    "quando dobbiamo creare un branch la procedura è:\n",
    "\n",
    "    1. creare il branch: git branch BugFix\n",
    "    2. visualizzare il branch esistenti: git branch\n",
    "    3. spostarci sul branch BugFix: git checkout BugFix\n",
    "\n",
    "invece possiamo usare un comando compatto che crea il branch e che ci sposti in quell'etichetta:\n",
    "`git checkout -b BugFix`"
   ]
  }
 ],
 "metadata": {
  "language_info": {
   "name": "python"
  }
 },
 "nbformat": 4,
 "nbformat_minor": 5
}
