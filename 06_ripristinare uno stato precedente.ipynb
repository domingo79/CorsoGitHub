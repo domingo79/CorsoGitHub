{
 "cells": [
  {
   "cell_type": "markdown",
   "id": "a0738c67",
   "metadata": {},
   "source": [
    "### Procedura per Ripristinare uno Stato Precedente in Modo Sicuro\n",
    "\n",
    "- Passo 1: Pulizia Totale Locale\n",
    "    Per prima cosa, dobbiamo buttare via i file non salvati, i conflitti e far sì che il PC sia una \n",
    "    copia esatta dello stato attuale (sbagliato) di GitHub. Ci serve una base pulita per lavorare.\n",
    "    1. Scarica le ultime informazioni da GitHub: `git fetch`\n",
    "    2. Resettare la cartella locale per farla corrispondere a GitHub (questo elimina le modifiche locali non salvate):  \n",
    "        `git reset --hard origin/main` (Ora il tuo PC è sincronizzato con lo stato (sbagliato) di GitHub).\n",
    "\n",
    "- Passo 2: Trovare l'ID del Commit \"Buono\"\n",
    "Dobbiamo dire a Git a quale versione vogliamo tornare. Ci serve il suo \"numero di serie\", chiamato Hash.\n",
    "\n",
    "- Passo 3: Ripristinare i File (Il Comando Chiave)  \n",
    "    `git checkout fb962f5 -- .` questo comando: Dice a Git: \"Prendi tutti i file (.) così com'erano nel commit HASH_BUONO e usali per sovrascrivere i file che ho adesso.\n",
    "\n",
    "- Passo 4: Committare e Caricare la Correzione\n",
    "    - git add .\n",
    "    - git commit -m \"RIPRISTINO: Riporto il progetto allo stato funzionante del [metti la data]\"\n",
    "    - git push\n"
   ]
  }
 ],
 "metadata": {
  "language_info": {
   "name": "python"
  }
 },
 "nbformat": 4,
 "nbformat_minor": 5
}
