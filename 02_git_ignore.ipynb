{
 "cells": [
  {
   "cell_type": "markdown",
   "id": "c84e8d6e",
   "metadata": {},
   "source": [
    "### nascondere file a git mediante il gile .gitignore\n",
    "ovviamente è file che dobbiamo committare\n",
    "git add . \n",
    "git commit -m \"Added file gitignore\" -m \"cartella di file nascosti\"\n",
    "\n",
    "ora tutti i file che vogliamo in locale devono essere inseriti nel file gitignore con prioritàù\n",
    "1. cartelle → temp (se le cartelle sono vuote git non le considera)\n",
    "2. file → file.txt\n",
    "3. eccezioni → !<nomefile>\n",
    "\n",
    "possiamo usare i path come:\n",
    "- *.txt (sta a dire tutti i file.txt)\n",
    "- !file_01.txt (per escludere il singolo file .txt)\n",
    "- temp/dir/*.log (cartella, sottocartella, tutto i file log)"
   ]
  }
 ],
 "metadata": {
  "language_info": {
   "name": "python"
  }
 },
 "nbformat": 4,
 "nbformat_minor": 5
}
