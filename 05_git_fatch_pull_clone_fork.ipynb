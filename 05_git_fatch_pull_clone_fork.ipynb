{
 "cells": [
  {
   "cell_type": "markdown",
   "id": "0fa1fd98",
   "metadata": {},
   "source": [
    "## aggiornare la repo in locale\n",
    "se aggiungiamo un file direttamente da GitHub come per esempio un file readme.md e facciamo commit, sulla nostra reposotory locale non risulta la modifica per cui se vogliamo capire se la repository è allinata al server remoto possiamo usare il comando  \n",
    "- `git fetch`   \n",
    "e con git status possiamo verificare se il nostro branch main è indietro di qualche commit rispetto a 'origin/main'\n",
    "possiamo anche usare il comando graph per vedere le differenze graficamente e notiao che appunto la nostra(HEAD→main) è indietro di un commit rispetto a (origin/main). Per cui possiamo effettuare un merge: `git merge origin/main. Ora siamo di nuovo allineati.\n",
    " - `git pull`  \n",
    "mentre git pull si occupa sia di aggiornare la repo in locale che a fare un merge e allineare il codice alla origin/main\n",
    "\n",
    "**nota** se abbiamo chiuso il terminale probabilmente il comango graph creato mediante alias non è più disponibile, per\n",
    "visualizzare tutte le variabili create basta digitare: `alias` ci verrano mostrate le variabili temporanee e qualora il nostro comando graph non è nella lista lo dobbiamo creare: `alias graph='git log --all --decorate --oneline --graph'`\n",
    "\n"
   ]
  },
  {
   "cell_type": "markdown",
   "id": "58d761c8",
   "metadata": {},
   "source": [
    "### come creare una repository clonando una repo da GitHub\n",
    "basta andare su GitHub e prendiamo l'url del clone ci posizioniamo nella nostra cartella e dal terminale digiteremo il comando git clone url e abbiamo anche la possibilità di cambiare il nome del progetto, infatti nell'url alla fine c'è sempre il nome della cartella che stiamo clonando per cui possiamo usare subito un nome per esempio CorsoGitHub:  \n",
    "`git clone https://github.com/domingo79/CORSO_GITHUB.git CorsoGitHub`"
   ]
  },
  {
   "cell_type": "markdown",
   "id": "2972f1e4",
   "metadata": {},
   "source": [
    "NOTA se cloniamo una nostra repo possiamo vedere tutte le modifiche fatte e possiamo creare commit e puschare commit cosa che non possiamo fare su una repository che non è di nostra proprietà. In questo caso dobbiamo usare Fork"
   ]
  },
  {
   "cell_type": "markdown",
   "id": "31b9b5c8",
   "metadata": {},
   "source": [
    "### Creare un Fork di una repo\n",
    "Quando vogliamo clonare una repo e sopratutto vogliamo anche effettuare dei commit e puscharli deve essere una reposotory di nostra proprietà.. oppure abbiamo la possibilità di creare una Fork che non è altro un clone di una repo non di nostra proprietà ma che ci permette di creare una repository sul nostro server remoto per cui poi possiamo clonare la stessa repo come se fosse di nostra proprietà e pushare tutte le modifiche che vogliamo. Se poi vogliamo contribuire al codice della repository non di nostra proprietà dobbiamo fare una pull-request al proprietario e sarà lui ad accettare eventuali modifiche."
   ]
  }
 ],
 "metadata": {
  "language_info": {
   "name": "python"
  }
 },
 "nbformat": 4,
 "nbformat_minor": 5
}
